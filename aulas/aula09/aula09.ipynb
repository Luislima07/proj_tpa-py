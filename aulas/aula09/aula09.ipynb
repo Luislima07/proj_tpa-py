{
 "cells": [
  {
   "cell_type": "markdown",
   "metadata": {},
   "source": [
    "# Aula 09 - Introdução a Tabelas Hash"
   ]
  },
  {
   "cell_type": "markdown",
   "metadata": {},
   "source": [
    ">As Tabelas Hash são estruturas de dados comum para a localização de grandes quantidades de dados. Devido sua eficiência na busca, inserção e remoção de elementos que utiliza a indexação dos dados como dicionários já visto em aula"
   ]
  },
  {
   "cell_type": "markdown",
   "metadata": {},
   "source": [
    "Aplicações:\n",
    "1. Banco de dados\n",
    "2. Cache de memória\n",
    "3. Compiladores\n",
    "4. Algoritmos de busca\n",
    "5. Big Data\n",
    "\n"
   ]
  },
  {
   "cell_type": "code",
   "execution_count": 108,
   "metadata": {},
   "outputs": [
    {
     "name": "stdout",
     "output_type": "stream",
     "text": [
      "[1]\n",
      "[1]\n",
      "[1]\n",
      "[1]\n"
     ]
    }
   ],
   "source": [
    "class HashTable: #Construtor da tabela hash\n",
    "    def __init__(self, size = 10):\n",
    "        self.size = size;\n",
    "        self.table = [[] for _ in range(self.size)]\n",
    "\n",
    "    def hash (self, key): #Cria método que calcula o índice da tablea atraves da chave\n",
    "        return hash(key) % self.size \n",
    "\n",
    "    def insert(self, key, value): #Método que Insere um valor através da sua chave\n",
    "        index = self.hash(key)\n",
    "        for y in self.table[index]:\n",
    "            if y[0] == key:\n",
    "                y[1] = value\n",
    "                return\n",
    "        self.table[index].append([key, value])\n",
    "\n",
    "    def remove(self,key): #Método de remoção do valor através da sua chave\n",
    "        index = self.hash(key)\n",
    "        for i, y in enumerate(self.table[index]):\n",
    "            if y[0] == key:\n",
    "                del self.table[index]\n",
    "                return True\n",
    "            return False\n",
    "    \n",
    "    def get(self, key):\n",
    "        index = self.hash(key)\n",
    "        for y in self.table[index]:\n",
    "            if y[0] == key:\n",
    "                return[1]\n",
    "            return None\n",
    "\n",
    "\n",
    "if __name__ == \"__main__\":\n",
    "    biblioteca = HashTable()\n",
    "    biblioteca.insert(\"A\",\"Alice no País das Maravilhas\")\n",
    "    biblioteca.insert(\"M\",\"Marcelino Pão e Vinho\")\n",
    "    biblioteca.insert(\"O\",\"O Código da Vinci\")\n",
    "    biblioteca.insert(\"R\",\"Romeu E Julieta\")\n",
    "\n",
    "    print(biblioteca.get(\"A\"))\n",
    "    print(biblioteca.get(\"M\"))\n",
    "    print(biblioteca.get(\"O\"))\n",
    "    print(biblioteca.get(\"R\"))\n",
    "\n"
   ]
  },
  {
   "cell_type": "markdown",
   "metadata": {},
   "source": [
    "## Exercício"
   ]
  },
  {
   "cell_type": "markdown",
   "metadata": {},
   "source": [
    ">Crie uma lista com "
   ]
  }
 ],
 "metadata": {
  "kernelspec": {
   "display_name": "Python 3",
   "language": "python",
   "name": "python3"
  },
  "language_info": {
   "codemirror_mode": {
    "name": "ipython",
    "version": 3
   },
   "file_extension": ".py",
   "mimetype": "text/x-python",
   "name": "python",
   "nbconvert_exporter": "python",
   "pygments_lexer": "ipython3",
   "version": "3.12.2"
  }
 },
 "nbformat": 4,
 "nbformat_minor": 2
}
