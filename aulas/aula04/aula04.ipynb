{
 "cells": [
  {
   "cell_type": "markdown",
   "metadata": {},
   "source": [
    "# Aula 04 - Introdução a Funções e Funções Lambda"
   ]
  },
  {
   "cell_type": "markdown",
   "metadata": {},
   "source": [
    ">Uma função é uma ação que realizado, através de parâmetros de entrada ou parâmetros vazios retornam uma rotina (código preestabelecido).\n",
    "\n"
   ]
  },
  {
   "cell_type": "code",
   "execution_count": 5,
   "metadata": {},
   "outputs": [],
   "source": [
    "def somar():\n",
    "    x = 2\n",
    "    y = 2\n",
    "    res = x + y\n",
    "    print(res)"
   ]
  },
  {
   "cell_type": "code",
   "execution_count": 6,
   "metadata": {},
   "outputs": [
    {
     "name": "stdout",
     "output_type": "stream",
     "text": [
      "4\n"
     ]
    }
   ],
   "source": [
    "somar()"
   ]
  },
  {
   "cell_type": "code",
   "execution_count": 7,
   "metadata": {},
   "outputs": [],
   "source": [
    "def adicao(x,y):\n",
    "    res = x + y\n",
    "    print(res)"
   ]
  },
  {
   "cell_type": "code",
   "execution_count": 8,
   "metadata": {},
   "outputs": [
    {
     "name": "stdout",
     "output_type": "stream",
     "text": [
      "4\n"
     ]
    }
   ],
   "source": [
    "adicao(2,2)"
   ]
  },
  {
   "cell_type": "code",
   "execution_count": 9,
   "metadata": {},
   "outputs": [],
   "source": [
    "def subtracao(x,y):\n",
    "    res = x - y\n",
    "    print(res)\n",
    "\n",
    "def multiplicacao(x,y):\n",
    "    res = x * y\n",
    "    print(res)\n",
    "\n",
    "def divisao(x,y):\n",
    "    res = x/y\n",
    "    print(res)"
   ]
  },
  {
   "cell_type": "code",
   "execution_count": 10,
   "metadata": {},
   "outputs": [
    {
     "name": "stdout",
     "output_type": "stream",
     "text": [
      "8\n",
      "5.0\n",
      "3\n"
     ]
    }
   ],
   "source": [
    "multiplicacao(4,2)\n",
    "divisao(10,2)\n",
    "subtracao(5,2)"
   ]
  },
  {
   "cell_type": "markdown",
   "metadata": {},
   "source": [
    "# Funções Lambda\n"
   ]
  },
  {
   "cell_type": "markdown",
   "metadata": {},
   "source": [
    "> Uma função lambda é uma forma rápida de criar funções ultilizando menos recurso e quantidade de comandos."
   ]
  },
  {
   "cell_type": "code",
   "execution_count": 11,
   "metadata": {},
   "outputs": [],
   "source": [
    "menos = lambda x,y: x-y"
   ]
  },
  {
   "cell_type": "code",
   "execution_count": 12,
   "metadata": {},
   "outputs": [
    {
     "name": "stdout",
     "output_type": "stream",
     "text": [
      "3\n"
     ]
    }
   ],
   "source": [
    "\n",
    "print(menos(5,2))"
   ]
  },
  {
   "cell_type": "code",
   "execution_count": 13,
   "metadata": {},
   "outputs": [
    {
     "name": "stdout",
     "output_type": "stream",
     "text": [
      "-48\n"
     ]
    }
   ],
   "source": [
    "delta = lambda a,b,c : (b*b)-(4*a*c)\n",
    "print(delta(2,4,8))"
   ]
  },
  {
   "cell_type": "markdown",
   "metadata": {},
   "source": [
    "# Funções Map"
   ]
  },
  {
   "cell_type": "code",
   "execution_count": 14,
   "metadata": {},
   "outputs": [
    {
     "name": "stdout",
     "output_type": "stream",
     "text": [
      "[24.84, 31.06, 46.58, 62.11, 124.22]\n"
     ]
    }
   ],
   "source": [
    "kph = [40,50,75,100,200]\n",
    "mph = []\n",
    "for i in kph:\n",
    "    mph.append(round(i/1.61,2))\n",
    "print(mph)"
   ]
  },
  {
   "cell_type": "code",
   "execution_count": 15,
   "metadata": {},
   "outputs": [
    {
     "name": "stdout",
     "output_type": "stream",
     "text": [
      "[24.84, 31.06, 46.58, 62.11, 124.22]\n"
     ]
    }
   ],
   "source": [
    "mph2 = list(map(lambda x: round(x/1.61,2),kph))\n",
    "print(mph2)"
   ]
  },
  {
   "cell_type": "markdown",
   "metadata": {},
   "source": [
    "# Exercício 1"
   ]
  },
  {
   "cell_type": "markdown",
   "metadata": {},
   "source": [
    ">Crie um código chamado baskhara, ele deverá ter uma rotina que ao ser criada retornará x' e x\". Os valores de entrada deverão ser os de delta (a,b,c) e o x. Se o usuario escolher 1 deverá retornar x' e se for 2 deverá retornar x\". Insira todas as possibilidades e as regras de baskhara."
   ]
  },
  {
   "cell_type": "code",
   "execution_count": 4,
   "metadata": {},
   "outputs": [],
   "source": [
    "import math\n",
    "\n",
    "def baskhara(a, b, c,x1,x2):\n",
    "    \n",
    "    delta = b**2 - 4*a*c\n",
    "    \n",
    "    if(delta<0):\n",
    "        print(\"A equação não possui raízes reais\")\n",
    "        \n",
    "    else:\n",
    "        if(x1>0):\n",
    "            x1 = (-b + math.sqrt(delta))/(2*a)\n",
    "            print(\"O x'= \", x1)\n",
    "        else:\n",
    "            if(x2>0): \n",
    "                x2 = (-b - math.sqrt(delta))/(2*a)\n",
    "                print(\"O x''= \", x2)\n",
    "            else:\n",
    "                x1 = (-b + math.sqrt(delta))/(2*a)\n",
    "                x2 = (-b - math.sqrt(delta))/(2*a)\n",
    "            print(\"X'=\",x1,\"e X'': \",x2)"
   ]
  },
  {
   "cell_type": "markdown",
   "metadata": {},
   "source": [
    "# Exercício 2"
   ]
  },
  {
   "cell_type": "markdown",
   "metadata": {},
   "source": [
    "> Crie um programa que calcule 5 valores dentro de uma lista chamada celsius. Crie uma nova lista vazia chamada fahrenheit e armazene a conversão dos valores de celsius utilizando lambda com map. No final exiba o valor da lista fahrenheit. "
   ]
  },
  {
   "cell_type": "code",
   "execution_count": 3,
   "metadata": {},
   "outputs": [
    {
     "name": "stdout",
     "output_type": "stream",
     "text": [
      "[41.0, 42.8, 44.6, 46.4, 48.2, 33.8]\n"
     ]
    }
   ],
   "source": [
    "celsius = [5.0, 6.0, 7.0, 8.0, 9.0, 1.0]\n",
    "fahrenheit = []\n",
    "\n",
    "fahrenheit = list(map(lambda x: round((9/5)*x + 32, 2), celsius))\n",
    "print(fahrenheit)\n"
   ]
  }
 ],
 "metadata": {
  "kernelspec": {
   "display_name": "Python 3",
   "language": "python",
   "name": "python3"
  },
  "language_info": {
   "codemirror_mode": {
    "name": "ipython",
    "version": 3
   },
   "file_extension": ".py",
   "mimetype": "text/x-python",
   "name": "python",
   "nbconvert_exporter": "python",
   "pygments_lexer": "ipython3",
   "version": "3.12.2"
  }
 },
 "nbformat": 4,
 "nbformat_minor": 2
}
