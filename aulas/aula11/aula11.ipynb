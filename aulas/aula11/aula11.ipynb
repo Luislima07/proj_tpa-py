{
 "cells": [
  {
   "cell_type": "markdown",
   "metadata": {},
   "source": [
    "# Atividade 11 - Estudo de Caso Supermercado"
   ]
  },
  {
   "cell_type": "markdown",
   "metadata": {},
   "source": [
    ">Seguindo as aulas de estrutura de dados, crie um algoritmo para seguinte ocasião:  Um supermercado possui três caixas. O primeiro é o caixa rápido, até 20 unidades, o segundo é para idosos com no mínimo 60 anos e o ultimo é para os demais clientes. Utilizando a estruturas já realizadas em sala crie um algoritmo que no seu método deverá possuir as entradas: nome, idade, e unidades. Insira 10 pessoas a essas filas deixando para o algoritmo definir qual fila do caixa deverá seguir."
   ]
  },
  {
   "cell_type": "code",
   "execution_count": 31,
   "metadata": {},
   "outputs": [],
   "source": [
    "from collections import deque\n",
    "\n",
    "class Supermercado: #Cria a classe do mercado\n",
    "    def __init__(self):\n",
    "        self.mercado = deque()\n",
    "        self.caixaNormal = []\n",
    "        self.caixaPrefe = []\n",
    "        self.caixaRapid = []\n",
    "\n",
    "    def aguardar(self, pessoa, idade , unidade): #Verifica qual o caixa a pessoa vai\n",
    "        self.mercado.append(pessoa)\n",
    "        if(idade>59): #Caixa Prefencial\n",
    "            print(f\"{pessoa} está no caixa preferencial!\")\n",
    "            self.caixaPrefe.append(pessoa)\n",
    "        else:\n",
    "            if(unidade<21): #Caixa Rápido\n",
    "                print(f\"{pessoa} está no caixa rápido!\")\n",
    "                self.caixaRapid.append(pessoa)\n",
    "            else: #Caixa Normal\n",
    "                print(f\"{pessoa} está no caixa normal!\")\n",
    "                self.caixaNormal.append(pessoa)\n",
    "    \n",
    "    def vazia(self):\n",
    "        return len(self.mercado) == 0\n",
    "    \n",
    "    def atender(self): #Faltou colocar qual caixa atendeu quem\n",
    "        if not self.vazia():\n",
    "            pessoa = self.mercado.popleft()\n",
    "            print(f\"{pessoa} foi atendido no caixa\")\n",
    "        else:\n",
    "            print(\"Os caixas estão livres\")\n",
    "\n",
    "    def tamanho(self):\n",
    "        if len(self.mercado) == 0:\n",
    "            print(\"Os caixas estão livres\")\n",
    "        else:\n",
    "            print(f\"\\nO caixa normal tem {len(self.caixaNormal)} pessoas na fila\")\n",
    "            print(f\"O caixa Preferencial tem {len(self.caixaPrefe)} pessoas na fila\")\n",
    "            print(f\"O caixa Rápido tem {len(self.caixaRapid)} pessoas na fila\")\n",
    "            "
   ]
  },
  {
   "cell_type": "code",
   "execution_count": 32,
   "metadata": {},
   "outputs": [
    {
     "name": "stdout",
     "output_type": "stream",
     "text": [
      "Mercado Aberto:\n",
      "João está no caixa preferencial!\n",
      "Maria está no caixa normal!\n",
      "Neymar está no caixa normal!\n",
      "Cristiano está no caixa normal!\n",
      "Yuri está no caixa rápido!\n",
      "Garro está no caixa normal!\n",
      "Hugo está no caixa normal!\n",
      "Martinez está no caixa normal!\n",
      "Steve está no caixa preferencial!\n",
      "Roberto está no caixa preferencial!\n",
      "\n",
      "O caixa normal tem 6 pessoas na fila\n",
      "O caixa Preferencial tem 3 pessoas na fila\n",
      "O caixa Rápido tem 1 pessoas na fila\n",
      "\n",
      "Mercado Atendendo:\n",
      "João foi atendido no caixa\n",
      "Maria foi atendido no caixa\n",
      "Neymar foi atendido no caixa\n",
      "Cristiano foi atendido no caixa\n",
      "Yuri foi atendido no caixa\n",
      "Garro foi atendido no caixa\n",
      "Hugo foi atendido no caixa\n",
      "Martinez foi atendido no caixa\n",
      "Steve foi atendido no caixa\n",
      "Roberto foi atendido no caixa\n",
      "\n",
      "Mercado fechado:\n",
      "Os caixas estão livres\n"
     ]
    }
   ],
   "source": [
    "mercado = Supermercado()\n",
    "print(\"Mercado Aberto:\")\n",
    "mercado.aguardar('João', 65,20)\n",
    "mercado.aguardar('Maria', 18,35)\n",
    "mercado.aguardar('Neymar',32,100)\n",
    "mercado.aguardar('Cristiano',39,40)\n",
    "mercado.aguardar('Yuri',24,15)\n",
    "mercado.aguardar('Garro',28,30)\n",
    "mercado.aguardar('Hugo',26,57)\n",
    "mercado.aguardar('Martinez',30,22)\n",
    "mercado.aguardar('Steve',70,40)\n",
    "mercado.aguardar('Roberto',86,70)\n",
    "mercado.tamanho()\n",
    "print(\"\\nMercado Atendendo:\")\n",
    "mercado.atender()\n",
    "mercado.atender()\n",
    "mercado.atender()\n",
    "mercado.atender()\n",
    "mercado.atender()\n",
    "mercado.atender()\n",
    "mercado.atender()\n",
    "mercado.atender()\n",
    "mercado.atender()\n",
    "mercado.atender()\n",
    "print(\"\\nMercado fechado:\")\n",
    "mercado.tamanho()"
   ]
  }
 ],
 "metadata": {
  "kernelspec": {
   "display_name": "Python 3",
   "language": "python",
   "name": "python3"
  },
  "language_info": {
   "codemirror_mode": {
    "name": "ipython",
    "version": 3
   },
   "file_extension": ".py",
   "mimetype": "text/x-python",
   "name": "python",
   "nbconvert_exporter": "python",
   "pygments_lexer": "ipython3",
   "version": "3.12.2"
  }
 },
 "nbformat": 4,
 "nbformat_minor": 2
}
