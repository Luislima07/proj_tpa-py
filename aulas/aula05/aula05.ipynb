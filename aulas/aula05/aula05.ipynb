{
 "cells": [
  {
   "cell_type": "markdown",
   "metadata": {},
   "source": [
    "# Aula 05 - Introdução ao List Comprehension e Format"
   ]
  },
  {
   "cell_type": "markdown",
   "metadata": {},
   "source": [
    ">Nessa aula iremos dar introdução ao list comprehension, uma forma mais simples de realizar conversões de valores entre duas ou mais listas. Atualmente é uma das formas mais rápidas de aplicar conversões, substituindo as declarações mais extensas do que o método conversional, lambda e o map"
   ]
  },
  {
   "cell_type": "markdown",
   "metadata": {},
   "source": [
    "## Exemplo 1 - Conversão de Celsius para Fahrenheit"
   ]
  },
  {
   "cell_type": "code",
   "execution_count": 2,
   "metadata": {},
   "outputs": [
    {
     "name": "stdout",
     "output_type": "stream",
     "text": [
      "[50.0, 68.0, 75.2, 95.0, 122.0]\n"
     ]
    }
   ],
   "source": [
    "celsius = [10,20,24,35,50]\n",
    "fahrenheit = [round(x*1.8+32,2) for x in celsius]\n",
    "print(fahrenheit)"
   ]
  },
  {
   "cell_type": "code",
   "execution_count": 3,
   "metadata": {},
   "outputs": [
    {
     "name": "stdout",
     "output_type": "stream",
     "text": [
      "Celsius  Fahrenheit\n",
      "=====================\n",
      "10       50.0  \n",
      "20       68.0  \n",
      "24       75.2  \n",
      "35       95.0  \n",
      "50       122.0 \n"
     ]
    }
   ],
   "source": [
    "print(\"{:<8} {:<6}\".format(\"Celsius\",\"Fahrenheit\"))\n",
    "print(\"=====================\")\n",
    "\n",
    "x = 0\n",
    "while(x<len(celsius)):\n",
    "    print(\"{:<8} {:<6}\".format(celsius[x],fahrenheit[x]))\n",
    "    x += 1\n",
    "\n"
   ]
  },
  {
   "cell_type": "markdown",
   "metadata": {},
   "source": [
    "## Exemplo 2 - Conversão de Kmh para Mph"
   ]
  },
  {
   "cell_type": "code",
   "execution_count": 3,
   "metadata": {},
   "outputs": [
    {
     "name": "stdout",
     "output_type": "stream",
     "text": [
      "[24.84, 31.06, 46.58, 62.11, 124.22]\n"
     ]
    }
   ],
   "source": [
    "kmh = [40,50,75,100,200]\n",
    "mph = [round(x/1.61,2) for x in kmh]\n",
    "print(mph)"
   ]
  },
  {
   "cell_type": "code",
   "execution_count": 4,
   "metadata": {},
   "outputs": [
    {
     "name": "stdout",
     "output_type": "stream",
     "text": [
      "Kmh    Mph   \n",
      "==============\n",
      "40     24.84 \n",
      "50     31.06 \n",
      "75     46.58 \n",
      "100    62.11 \n",
      "200    124.22\n"
     ]
    }
   ],
   "source": [
    "print(\"{:<6} {:<6}\".format(\"Kmh\",\"Mph\"))\n",
    "print(\"==============\")\n",
    "x = 0\n",
    "while(x<len(kmh)):\n",
    "   print(\"{:<6} {:<6}\".format(kmh[x],mph[x]))\n",
    "   x +=1\n"
   ]
  },
  {
   "cell_type": "markdown",
   "metadata": {},
   "source": [
    "# Exercício 1"
   ]
  },
  {
   "cell_type": "markdown",
   "metadata": {},
   "source": [
    ">Crie uma lista com 10 valores em metros. Crie uma tabela de conversão para polegadas, pés, jardas, e mílhas marítimas. Listando o número da linha e o cabeçalho da tabela"
   ]
  },
  {
   "cell_type": "code",
   "execution_count": 5,
   "metadata": {},
   "outputs": [],
   "source": [
    "metros = [10,20,30,40,50,60,70,80,90,100]\n",
    "polegadas = [round(x*39.370,3) for x in metros]\n",
    "pes = [round(x*3.281,1) for x in metros]\n",
    "jardas = [round(x*0.91,2) for x in metros]\n",
    "milhas = [round(x*1.852)for x in metros]"
   ]
  },
  {
   "cell_type": "code",
   "execution_count": 6,
   "metadata": {},
   "outputs": [
    {
     "name": "stdout",
     "output_type": "stream",
     "text": [
      " N°  Metros Polegadas Pés    Jardas Milhas\n",
      "=========================================\n",
      "1   10     393.7     32.8   9.1    19 \n",
      "2   20     787.4     65.6   18.2   37 \n",
      "3   30     1181.1    98.4   27.3   56 \n",
      "4   40     1574.8    131.2  36.4   74 \n",
      "5   50     1968.5    164.1  45.5   93 \n",
      "6   60     2362.2    196.9  54.6   111\n",
      "7   70     2755.9    229.7  63.7   130\n",
      "8   80     3149.6    262.5  72.8   148\n",
      "9   90     3543.3    295.3  81.9   167\n",
      "10  100    3937.0    328.1  91.0   185\n"
     ]
    }
   ],
   "source": [
    "\n",
    "print(\" {:<3} {:<6} {:<9} {:<6} {:<6} {:<3}\".format(\"N°\",\"Metros\",\"Polegadas\",\"Pés\",\"Jardas\",\"Milhas\"))\n",
    "print(\"=========================================\")\n",
    "x = 0\n",
    "while(x<len(metros)):\n",
    "    print(\"{:<3} {:<6} {:<9} {:<6} {:<6} {:<3}\".format(x+1,metros[x],polegadas[x],pes[x],jardas[x],milhas[x]))\n",
    "    x +=1\n"
   ]
  },
  {
   "cell_type": "markdown",
   "metadata": {},
   "source": [
    "# Exercício 2"
   ]
  },
  {
   "cell_type": "markdown",
   "metadata": {},
   "source": [
    ">Crie uma lista com 10 valores em Kelvin. Crie uma tabela de conversão para Celsius e Fahrenheit, Listando o número da linha e o cabeçalho da tabela"
   ]
  },
  {
   "cell_type": "code",
   "execution_count": 7,
   "metadata": {},
   "outputs": [],
   "source": [
    "kelvin = [10,20,30,40,50,60,70,80,90,100]\n",
    "celsius= [round(x-273.15,2) for x in kelvin]\n",
    "fahrenheit = [round(1.8*(x-273)+32,2) for x in kelvin]\n",
    "\n"
   ]
  },
  {
   "cell_type": "code",
   "execution_count": 8,
   "metadata": {},
   "outputs": [
    {
     "name": "stdout",
     "output_type": "stream",
     "text": [
      "Num  Kelvin C°     F° \n",
      "======================\n",
      "1    10   -263.15 -441.4\n",
      "2    20   -253.15 -423.4\n",
      "3    30   -243.15 -405.4\n",
      "4    40   -233.15 -387.4\n",
      "5    50   -223.15 -369.4\n",
      "6    60   -213.15 -351.4\n",
      "7    70   -203.15 -333.4\n",
      "8    80   -193.15 -315.4\n",
      "9    90   -183.15 -297.4\n",
      "10   100  -173.15 -279.4\n"
     ]
    }
   ],
   "source": [
    "print(\"{:<4} {:<4} {:<6} {:<3}\".format(\"Num\",\"Kelvin\",\"C°\",\"F°\"))\n",
    "print(\"======================\")\n",
    "x=0\n",
    "while(x<len(celsius)):\n",
    "    print(\"{:<4} {:<4} {:<6} {:<3}\".format(x+1,kelvin[x],celsius[x],fahrenheit[x]))\n",
    "    x +=1"
   ]
  }
 ],
 "metadata": {
  "kernelspec": {
   "display_name": "Python 3",
   "language": "python",
   "name": "python3"
  },
  "language_info": {
   "codemirror_mode": {
    "name": "ipython",
    "version": 3
   },
   "file_extension": ".py",
   "mimetype": "text/x-python",
   "name": "python",
   "nbconvert_exporter": "python",
   "pygments_lexer": "ipython3",
   "version": "3.12.2"
  }
 },
 "nbformat": 4,
 "nbformat_minor": 2
}
