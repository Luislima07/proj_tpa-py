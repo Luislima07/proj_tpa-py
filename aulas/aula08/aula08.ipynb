{
 "cells": [
  {
   "cell_type": "markdown",
   "metadata": {},
   "source": [
    "# Aula 08  - Introdução a Estrutura de Dados"
   ]
  },
  {
   "cell_type": "markdown",
   "metadata": {},
   "source": [
    "## Fila (FIFO)"
   ]
  },
  {
   "cell_type": "code",
   "execution_count": 9,
   "metadata": {},
   "outputs": [],
   "source": [
    "class Fila: #Cria uma classe\n",
    "    def __init__(self): \n",
    "        self.fila = []\n",
    "    \n",
    "    def enfileirar(self, item): \n",
    "        self.fila.append(item)\n",
    "        print(f\"{item} Chegou ao caixa\")   \n",
    "\n",
    "    def vazio(self):\n",
    "        return len(self.fila) == 0\n",
    "\n",
    "    def desinfileirar(self):\n",
    "        if not self.vazio():\n",
    "            item = self.fila.pop(0)\n",
    "            print(f\"{item} foi atentido no caixa\")\n",
    "            return item\n",
    "        else:\n",
    "            print(\"O caixa está livre\")\n",
    "            return None\n",
    "        \n",
    "    def tamanho(self):\n",
    "        if len(self.fila) == 0:\n",
    "            print(\"O Caixa está livre\")\n",
    "        else: \n",
    "            print(f\"\\nTem {len(self.fila)} pessoas na fila\") \n",
    "        "
   ]
  },
  {
   "cell_type": "markdown",
   "metadata": {},
   "source": [
    "## Atividade 1    "
   ]
  },
  {
   "cell_type": "markdown",
   "metadata": {},
   "source": [
    "> Joãozinho está no mercado entre a Vó Maria e Caique que chegou logo atrás para ir ao caixa. Tendo como fila a estrutura de dados. Adcione os três a fila nessa ordem e atenda a Vó Maria, e depois mostre o tamanho da fila."
   ]
  },
  {
   "cell_type": "code",
   "execution_count": 10,
   "metadata": {},
   "outputs": [
    {
     "name": "stdout",
     "output_type": "stream",
     "text": [
      "Vó Maria Chegou ao caixa\n",
      "Caique Chegou ao caixa\n",
      "Joãozinho Chegou ao caixa\n",
      "Vó Maria foi atentido no caixa\n",
      "\n",
      "Tem 2 pessoas na fila\n"
     ]
    }
   ],
   "source": [
    "fila = Fila()\n",
    "fila.enfileirar('Vó Maria')\n",
    "fila.enfileirar('Caique')\n",
    "fila.enfileirar('Joãozinho')\n",
    "fila.desinfileirar()\n",
    "fila.tamanho()\n",
    "\n"
   ]
  },
  {
   "cell_type": "code",
   "execution_count": 11,
   "metadata": {},
   "outputs": [
    {
     "name": "stdout",
     "output_type": "stream",
     "text": [
      "Caique foi atentido no caixa\n",
      "Joãozinho foi atentido no caixa\n",
      "O Caixa está livre\n"
     ]
    }
   ],
   "source": [
    "fila.desinfileirar()\n",
    "fila.desinfileirar()\n",
    "fila.tamanho()"
   ]
  },
  {
   "cell_type": "markdown",
   "metadata": {},
   "source": [
    "## FIFO utilizando Collections deque"
   ]
  },
  {
   "cell_type": "code",
   "execution_count": null,
   "metadata": {},
   "outputs": [],
   "source": [
    "from collections import deque\n",
    "\n",
    "class Farmacia:\n",
    "    def __init__(self):\n",
    "        self.farmacia = deque()\n",
    "\n",
    "    def aguardar(self,nome):\n",
    "        self.farmacia.append(nome)\n",
    "        print(f\"{nome} está na fila\")\n",
    "\n",
    "    def vazio(self):\n",
    "        return len(self.farmacia) == 0\n",
    "\n",
    "    def atender(self):\n",
    "        if not self.vazio():\n",
    "            nome = self.farmacia.popleft()\n",
    "            print(f\"{nome} foi atentido no caixa\")\n",
    "            return nome\n",
    "        else:\n",
    "            print(\"O caixa está livre\")\n",
    "            return None\n",
    "        \n",
    "    def tamanho(self):\n",
    "        if len(self.farmacia) == 0:\n",
    "            print(\"O caixa está livre\")\n",
    "        else:\n",
    "            print(f\"\\nTem {len(self.farmacia)} pessoas na fila\")\n"
   ]
  },
  {
   "cell_type": "markdown",
   "metadata": {},
   "source": [
    "## Atividade 2 - Atendimento da Farmácia"
   ]
  },
  {
   "cell_type": "markdown",
   "metadata": {},
   "source": [
    ">Ao abrir a farmácia pela manhã, a balconista recebe 5 pessoas. 3 delas são atendiadas e vão ao caixa. As demais estão aguardando para ser atentendas. Inclua o nome das 5 pessoas, atenda 3 e depois mostra o tamanho da fila"
   ]
  },
  {
   "cell_type": "code",
   "execution_count": 13,
   "metadata": {},
   "outputs": [
    {
     "name": "stdout",
     "output_type": "stream",
     "text": [
      "Neymar está na fila\n",
      "Cristiano Ronaldo está na fila\n",
      "Messi está na fila\n",
      "Yuri Alberto está na fila\n",
      "Rodrigo Garro está na fila\n",
      "=================================\n",
      "Neymar foi atentido no caixa\n",
      "Cristiano Ronaldo foi atentido no caixa\n",
      "Messi foi atentido no caixa\n",
      "\n",
      "Tem 2 pessoas na fila\n"
     ]
    }
   ],
   "source": [
    "farmacia = Farmacia()\n",
    "farmacia.aguardar('Neymar')\n",
    "farmacia.aguardar('Cristiano Ronaldo')\n",
    "farmacia.aguardar('Messi')\n",
    "farmacia.aguardar('Yuri Alberto')\n",
    "farmacia.aguardar('Rodrigo Garro')\n",
    "print(\"=================================\")\n",
    "farmacia.atender()\n",
    "farmacia.atender()\n",
    "farmacia.atender()\n",
    "farmacia.tamanho()"
   ]
  },
  {
   "cell_type": "markdown",
   "metadata": {},
   "source": [
    "## Pilhas (LIFO)"
   ]
  },
  {
   "cell_type": "code",
   "execution_count": 14,
   "metadata": {},
   "outputs": [],
   "source": [
    "class Editor:\n",
    "    def __init__(self):\n",
    "        self.texto = \"\"\n",
    "        self.historico = []\n",
    "\n",
    "    def escrever (self, texto):\n",
    "        self.historico.append(self,texto)\n",
    "        self.texto += texto\n",
    "\n",
    "    def desfazer(self):\n",
    "        if self.historico:\n",
    "            self.texto = self.historico.pop()\n",
    "        else:\n",
    "            self.texto = \"\" \n",
    "        \n",
    "    def visualizar(self):\n",
    "        print(self.texto)"
   ]
  },
  {
   "cell_type": "markdown",
   "metadata": {},
   "source": [
    "## Atividade 3"
   ]
  },
  {
   "cell_type": "markdown",
   "metadata": {},
   "source": [
    ">Em um editor Yago escreve primeiro \"Olá \", depois \"mundo!\" e por último \"por:\" e \"Yago\"; Depois disso ele exbiu o texto editado. Logo após decidiu remover \"por:\" e \"Yago\". Faça um algoritmo que realize o passo-a-passo de Yago"
   ]
  },
  {
   "cell_type": "code",
   "execution_count": 20,
   "metadata": {},
   "outputs": [
    {
     "ename": "NameError",
     "evalue": "name 'texto' is not defined",
     "output_type": "error",
     "traceback": [
      "\u001b[1;31m---------------------------------------------------------------------------\u001b[0m",
      "\u001b[1;31mNameError\u001b[0m                                 Traceback (most recent call last)",
      "Cell \u001b[1;32mIn[20], line 7\u001b[0m\n\u001b[0;32m      5\u001b[0m editor\u001b[38;5;241m.\u001b[39mescrever\u001b[38;5;241m=\u001b[39m \u001b[38;5;124m\"\u001b[39m\u001b[38;5;124mYago!\u001b[39m\u001b[38;5;124m\"\u001b[39m\n\u001b[0;32m      6\u001b[0m editor\u001b[38;5;241m.\u001b[39mdesfazer\u001b[38;5;241m=\u001b[39m \u001b[38;5;124m\"\u001b[39m\u001b[38;5;124mYago\u001b[39m\u001b[38;5;124m\"\u001b[39m\n\u001b[1;32m----> 7\u001b[0m \u001b[38;5;28mprint\u001b[39m(\u001b[43mtexto\u001b[49m)\n",
      "\u001b[1;31mNameError\u001b[0m: name 'texto' is not defined"
     ]
    }
   ],
   "source": [
    "editor = Editor()\n",
    "editor.escrever= \"Olá \"\n",
    "editor.escrever= \"mundo! \"\n",
    "editor.escrever= \"Por: \"\n",
    "editor.escrever= \"Yago!\"\n",
    "editor.desfazer= \"Yago\"\n"
   ]
  }
 ],
 "metadata": {
  "kernelspec": {
   "display_name": "Python 3",
   "language": "python",
   "name": "python3"
  },
  "language_info": {
   "codemirror_mode": {
    "name": "ipython",
    "version": 3
   },
   "file_extension": ".py",
   "mimetype": "text/x-python",
   "name": "python",
   "nbconvert_exporter": "python",
   "pygments_lexer": "ipython3",
   "version": "3.12.2"
  }
 },
 "nbformat": 4,
 "nbformat_minor": 2
}
